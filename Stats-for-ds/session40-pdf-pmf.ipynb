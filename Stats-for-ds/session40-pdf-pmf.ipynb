{
 "cells": [
  {
   "cell_type": "code",
   "execution_count": 2,
   "metadata": {},
   "outputs": [],
   "source": [
    "import pandas as pd\n",
    "import random"
   ]
  },
  {
   "cell_type": "code",
   "execution_count": 3,
   "metadata": {},
   "outputs": [],
   "source": [
    "L=[]\n",
    "for i in range(10000):\n",
    "    a = random.randint(1,6)\n",
    "    L.append(a)"
   ]
  },
  {
   "cell_type": "code",
   "execution_count": 4,
   "metadata": {},
   "outputs": [],
   "source": [
    "M=[]\n",
    "for i in range(10000):\n",
    "    a = random.randint(1,6)\n",
    "    b = random.randint(1,6)\n",
    "    M.append(a+b)"
   ]
  },
  {
   "cell_type": "code",
   "execution_count": 5,
   "metadata": {},
   "outputs": [],
   "source": [
    "s = (pd.Series(L).value_counts()/pd.Series(L).value_counts().sum()).sort_index()\n",
    "t = (pd.Series(M).value_counts()/pd.Series(M).value_counts().sum()).sort_index()"
   ]
  },
  {
   "cell_type": "code",
   "execution_count": 6,
   "metadata": {},
   "outputs": [
    {
     "data": {
      "text/plain": [
       "(2    1724\n",
       " 6    1702\n",
       " 1    1694\n",
       " 5    1636\n",
       " 3    1635\n",
       " 4    1609\n",
       " dtype: int64,\n",
       " 7     1639\n",
       " 8     1402\n",
       " 6     1331\n",
       " 9     1173\n",
       " 5     1098\n",
       " 4      858\n",
       " 10     819\n",
       " 11     575\n",
       " 3      562\n",
       " 2      277\n",
       " 12     266\n",
       " dtype: int64)"
      ]
     },
     "execution_count": 6,
     "metadata": {},
     "output_type": "execute_result"
    }
   ],
   "source": [
    "pd.Series(L).value_counts(), pd.Series(M).value_counts()"
   ]
  },
  {
   "cell_type": "code",
   "execution_count": 7,
   "metadata": {},
   "outputs": [
    {
     "data": {
      "text/plain": [
       "0.9999999999999999"
      ]
     },
     "execution_count": 7,
     "metadata": {},
     "output_type": "execute_result"
    }
   ],
   "source": [
    "import numpy as np\n",
    "np.sum(s)\n",
    "np.sum(t)"
   ]
  },
  {
   "cell_type": "code",
   "execution_count": 8,
   "metadata": {},
   "outputs": [
    {
     "data": {
      "text/plain": [
       "<AxesSubplot:>"
      ]
     },
     "execution_count": 8,
     "metadata": {},
     "output_type": "execute_result"
    },
    {
     "data": {
      "image/png": "[encoded data removed]",
      "text/plain": [
       "<Figure size 432x288 with 1 Axes>"
      ]
     },
     "metadata": {
      "needs_background": "light"
     },
     "output_type": "display_data"
    }
   ],
   "source": [
    "s.plot(kind='bar')"
   ]
  },
  {
   "cell_type": "code",
   "execution_count": 9,
   "metadata": {},
   "outputs": [
    {
     "data": {
      "text/plain": [
       "<AxesSubplot:>"
      ]
     },
     "execution_count": 9,
     "metadata": {},
     "output_type": "execute_result"
    },
    {
     "data": {
      "image/png": "[encoded data removed]",
      "text/plain": [
       "<Figure size 432x288 with 1 Axes>"
      ]
     },
     "metadata": {
      "needs_background": "light"
     },
     "output_type": "display_data"
    }
   ],
   "source": [
    "t.plot(kind='bar')"
   ]
  },
  {
   "cell_type": "code",
   "execution_count": 10,
   "metadata": {},
   "outputs": [
    {
     "data": {
      "text/plain": [
       "(1    0.1694\n",
       " 2    0.3418\n",
       " 3    0.5053\n",
       " 4    0.6662\n",
       " 5    0.8298\n",
       " 6    1.0000\n",
       " dtype: float64,\n",
       " 2     0.0277\n",
       " 3     0.0839\n",
       " 4     0.1697\n",
       " 5     0.2795\n",
       " 6     0.4126\n",
       " 7     0.5765\n",
       " 8     0.7167\n",
       " 9     0.8340\n",
       " 10    0.9159\n",
       " 11    0.9734\n",
       " 12    1.0000\n",
       " dtype: float64)"
      ]
     },
     "execution_count": 10,
     "metadata": {},
     "output_type": "execute_result"
    }
   ],
   "source": [
    "np.cumsum(s),np.cumsum(t)"
   ]
  },
  {
   "cell_type": "code",
   "execution_count": 11,
   "metadata": {},
   "outputs": [
    {
     "data": {
      "text/plain": [
       "<AxesSubplot:>"
      ]
     },
     "execution_count": 11,
     "metadata": {},
     "output_type": "execute_result"
    },
    {
     "data": {
      "image/png": "[encoded data removed]",
      "text/plain": [
       "<Figure size 432x288 with 1 Axes>"
      ]
     },
     "metadata": {
      "needs_background": "light"
     },
     "output_type": "display_data"
    }
   ],
   "source": [
    "np.cumsum(s).plot(kind='bar')"
   ]
  },
  {
   "cell_type": "code",
   "execution_count": 12,
   "metadata": {},
   "outputs": [
    {
     "data": {
      "text/plain": [
       "<AxesSubplot:>"
      ]
     },
     "execution_count": 12,
     "metadata": {},
     "output_type": "execute_result"
    },
    {
     "data": {
      "image/png": "[encoded data removed]",
      "text/plain": [
       "<Figure size 432x288 with 1 Axes>"
      ]
     },
     "metadata": {
      "needs_background": "light"
     },
     "output_type": "display_data"
    }
   ],
   "source": [
    "np.cumsum(t).plot(kind='bar')"
   ]
  },
  {
   "cell_type": "markdown",
   "metadata": {},
   "source": [
    "### Parametric Density Estimation"
   ]
  },
  {
   "cell_type": "code",
   "execution_count": 13,
   "metadata": {},
   "outputs": [],
   "source": [
    "import matplotlib.pyplot as plt \n",
    "import numpy as np \n",
    "from numpy.random import normal\n",
    "\n",
    "sample = normal(loc=50, scale=5, size=1000)"
   ]
  },
  {
   "cell_type": "code",
   "execution_count": 14,
   "metadata": {},
   "outputs": [
    {
     "data": {
      "text/plain": [
       "(50.05126950225696, 5.108757049837959)"
      ]
     },
     "execution_count": 14,
     "metadata": {},
     "output_type": "execute_result"
    }
   ],
   "source": [
    "sample.mean(), sample.std()"
   ]
  },
  {
   "cell_type": "code",
   "execution_count": 15,
   "metadata": {},
   "outputs": [
    {
     "data": {
      "text/plain": [
       "(array([ 13.,  56., 125., 204., 243., 198., 107.,  39.,  11.,   4.]),\n",
       " array([36.12864095, 39.29029481, 42.45194867, 45.61360254, 48.7752564 ,\n",
       "        51.93691026, 55.09856412, 58.26021798, 61.42187184, 64.5835257 ,\n",
       "        67.74517956]),\n",
       " <BarContainer object of 10 artists>)"
      ]
     },
     "execution_count": 15,
     "metadata": {},
     "output_type": "execute_result"
    },
    {
     "data": {
      "image/png": "[encoded data removed]",
      "text/plain": [
       "<Figure size 432x288 with 1 Axes>"
      ]
     },
     "metadata": {
      "needs_background": "light"
     },
     "output_type": "display_data"
    }
   ],
   "source": [
    "plt.hist(sample,bins=10)"
   ]
  },
  {
   "cell_type": "code",
   "execution_count": 16,
   "metadata": {},
   "outputs": [],
   "source": [
    "sample_mean = sample.mean()\n",
    "sample_std = sample.std()"
   ]
  },
  {
   "cell_type": "code",
   "execution_count": 17,
   "metadata": {},
   "outputs": [],
   "source": [
    "from scipy.stats import norm\n",
    "dist = norm(60,12)"
   ]
  },
  {
   "cell_type": "code",
   "execution_count": 18,
   "metadata": {},
   "outputs": [],
   "source": [
    "values = np.linspace(sample.min(), sample.max(),100)"
   ]
  },
  {
   "cell_type": "code",
   "execution_count": 19,
   "metadata": {},
   "outputs": [
    {
     "data": {
      "text/plain": [
       "67.74517956477634"
      ]
     },
     "execution_count": 19,
     "metadata": {},
     "output_type": "execute_result"
    }
   ],
   "source": [
    "sample.max()"
   ]
  },
  {
   "cell_type": "code",
   "execution_count": 20,
   "metadata": {},
   "outputs": [],
   "source": [
    "probabilities = [dist.pdf(value) for value in values]"
   ]
  },
  {
   "cell_type": "code",
   "execution_count": 21,
   "metadata": {},
   "outputs": [
    {
     "data": {
      "text/plain": [
       "[<matplotlib.lines.Line2D at 0x186db603e20>]"
      ]
     },
     "execution_count": 21,
     "metadata": {},
     "output_type": "execute_result"
    },
    {
     "data": {
      "image/png": "[encoded data removed]",
      "text/plain": [
       "<Figure size 432x288 with 1 Axes>"
      ]
     },
     "metadata": {
      "needs_background": "light"
     },
     "output_type": "display_data"
    }
   ],
   "source": [
    "plt.hist(sample, bins=10, density=True)\n",
    "plt.plot(values, probabilities)"
   ]
  },
  {
   "cell_type": "code",
   "execution_count": 22,
   "metadata": {},
   "outputs": [
    {
     "name": "stderr",
     "output_type": "stream",
     "text": [
      "C:\\Users\\user\\AppData\\Local\\Temp\\ipykernel_8836\\1482356190.py:2: UserWarning: \n",
      "\n",
      "`distplot` is a deprecated function and will be removed in seaborn v0.14.0.\n",
      "\n",
      "Please adapt your code to use either `displot` (a figure-level function with\n",
      "similar flexibility) or `histplot` (an axes-level function for histograms).\n",
      "\n",
      "For a guide to updating your code to use the new functions, please see\n",
      "https://gist.github.com/mwaskom/de44147ed2974457ad6372750bbe5751\n",
      "\n",
      "  sns.distplot(sample)\n"
     ]
    },
    {
     "data": {
      "text/plain": [
       "<AxesSubplot:ylabel='Density'>"
      ]
     },
     "execution_count": 22,
     "metadata": {},
     "output_type": "execute_result"
    },
    {
     "data": {
      "image/png": "[encoded data removed]",
      "text/plain": [
       "<Figure size 432x288 with 1 Axes>"
      ]
     },
     "metadata": {
      "needs_background": "light"
     },
     "output_type": "display_data"
    }
   ],
   "source": [
    "import seaborn as sns\n",
    "sns.distplot(sample)"
   ]
  },
  {
   "cell_type": "markdown",
   "metadata": {},
   "source": [
    "## KDE"
   ]
  },
  {
   "cell_type": "code",
   "execution_count": 23,
   "metadata": {},
   "outputs": [],
   "source": [
    "sample1 = normal(loc=20, scale=5, size=300)\n",
    "sample2= normal(loc=40, scale=5, size=700)\n",
    "sample = np.hstack((sample1,sample2))"
   ]
  },
  {
   "cell_type": "code",
   "execution_count": 24,
   "metadata": {},
   "outputs": [
    {
     "data": {
      "text/plain": [
       "array([26.33251236, 25.05036358, 19.45795215, 24.82362521, 22.22637637,\n",
       "       18.69408271, 15.2191619 , 10.97869892, 29.42897608, 24.85437985,\n",
       "       20.5863099 , 16.56664755, 14.30981689, 21.6139302 , 10.96065419,\n",
       "       19.28352597, 14.10112518, 25.28460323, 25.5448265 , 18.07614412,\n",
       "       20.8026288 , 22.94621042,  6.15265174, 16.91110452, 23.44023028,\n",
       "       24.57890594, 14.81574926, 20.52088169, 14.1957465 , 13.42499399,\n",
       "       18.91632405,  9.27324927, 20.54566827, 12.03992753, 25.62930641,\n",
       "       15.86228082, 13.67097865, 16.37636765, 21.23654393, 28.17368098,\n",
       "       23.61610784, 16.0853179 , 33.47462239, 16.55951011, 18.11122669,\n",
       "       13.47319046, 27.29283196, 19.34932434, 25.52445501, 22.78212974,\n",
       "       24.63931655, 21.07779996,  8.17608533, 10.84070316, 23.00574818,\n",
       "       15.53197461, 25.70318958, 25.02809266, 14.14276099, 25.32754285,\n",
       "       29.16194229, 18.7362578 , 18.3192714 , 23.7328882 , 17.2153214 ,\n",
       "       18.83108152, 18.06212471, 13.40935002, 18.53340267, 26.33093276,\n",
       "       10.55361425, 15.98089273, 27.77082556, 21.24076571, 30.99587204,\n",
       "       13.50611944, 16.30044128, 23.81177432, 26.1010404 , 20.25412795,\n",
       "       19.00674973, 11.13900508, 17.12099454, 28.30154998, 14.40595663,\n",
       "       13.90564429, 15.74178679, 17.49687838, 18.10813787, 13.43843903,\n",
       "       20.27883195,  8.96106722, 22.27082989, 24.47013846, 27.22692712,\n",
       "       20.6255109 , 19.87848746, 27.71150876, 16.17616536, 22.02078663,\n",
       "       19.27390752, 26.61868168, 21.99469062, 16.04737453, 17.69010815,\n",
       "       23.92665551, 15.10577288, 14.04817061, 12.36311132, 14.93419918,\n",
       "       19.79942481, 19.04960786, 10.86603204, 24.35449957, 31.43748947,\n",
       "       17.03335411, 14.89605537, 31.08324254, 20.95563716, 15.30393185,\n",
       "       21.35627497, 20.65474485,  9.77587511, 18.65109762, 24.74842211,\n",
       "       11.78697834, 32.59761905, 35.76541948,  8.61973358, 14.35811037,\n",
       "       20.57776145, 21.94660785, 20.49646268, 10.51155817, 19.02742749,\n",
       "       11.26431577, 15.42216821, 23.44479363, 21.39166478, 17.25257036,\n",
       "       13.87905373, 21.22122546, 22.44870266, 14.90361425, 15.3853609 ,\n",
       "       10.68203294, 25.20257488, 11.60199758, 18.31835698, 17.76981331,\n",
       "       18.96039819, 19.08497488, 20.46046528, 21.17702415, 14.64875807,\n",
       "       30.20833737, 21.57724571, 23.68659425, 16.2841614 , 22.04484084,\n",
       "       21.70805308, 18.72446743, 19.29563172, 24.06219319, 11.61303467,\n",
       "       18.4458212 , 15.14066919, 13.9802916 , 14.78650601, 17.49614027,\n",
       "       30.48821356, 24.86936376, 20.58968248, 16.17231569, 27.9846804 ,\n",
       "       23.88303539, 20.78268117,  5.7643281 , 24.45123967, 20.75448157,\n",
       "       12.48053816, 21.30596704, 17.50088451, 22.09512734, 25.90708567,\n",
       "       17.37351363, 23.80003144, 24.36125769, 31.21975647, 24.97195636,\n",
       "       23.88996262, 19.7378848 , 20.60135952, 17.96586163, 25.35488746,\n",
       "       17.63598731, 11.92903151, 13.37381271, 30.64807699, 11.91649374,\n",
       "       16.76755074, 16.83152022, 20.34162368, 12.22894097, 11.72194341,\n",
       "        9.24382998, 36.71463439, 18.05449439, 18.48414731, 17.7001532 ,\n",
       "       18.11093101, 19.57864804, 30.75253093, 24.16621312, 17.09726455,\n",
       "       14.00012613, 21.92257333, 16.32239777, 28.70337318, 30.95174619,\n",
       "       19.65115518, 20.75024785, 15.08149614, 14.45706496, 31.47679658,\n",
       "       18.31165816, 20.60554776, 23.96862467, 26.96648252, 26.46570592,\n",
       "       16.8455148 , 19.65289397, 26.72298935, 14.47596118, 17.16827094,\n",
       "       20.64653313, 19.27350285, 16.88281245, 20.01335145, 18.20891407,\n",
       "       31.13757236, 17.70285997, 18.15906408, 13.77994272, 13.30353108,\n",
       "       20.96951653, 20.85308791, 21.13249181, 22.74953082, 19.62862514,\n",
       "       12.77815928, 20.73383763, 20.43361034, 12.59289675, 25.39869071,\n",
       "       22.72029794, 20.61931402, 21.14522671, 19.08531063, 20.06495156,\n",
       "       20.18743345, 21.12673344, 19.67519471, 19.24629564, 21.78824066,\n",
       "       16.36924125, 16.97505308, 19.76771747, 12.61329358, 20.74540736,\n",
       "       27.35168329, 24.86906725, 24.76630182, 23.41764603, 22.06463132,\n",
       "       22.39280236, 20.11021887, 26.49461224, 34.77225219, 20.62483141,\n",
       "       15.67588696, 16.82036403, 22.30240881, 22.18480763, 15.91685885,\n",
       "       26.19654267, 19.09273567, 11.39616647, 16.95597053, 28.83483046,\n",
       "       23.84503315, 21.75451707, 16.17761685, 14.84202831, 22.09002473,\n",
       "       19.3740646 , 24.78364269, 22.15054776, 18.58144348, 28.06060242,\n",
       "       43.8395454 , 43.58823104, 43.33331614, 36.44116125, 39.02409871,\n",
       "       48.46748881, 36.2121902 , 42.87363251, 43.15471471, 32.4839077 ,\n",
       "       37.82579345, 37.27046796, 45.49986161, 45.71703897, 39.38426778,\n",
       "       44.29497859, 43.19820876, 42.29933077, 41.10432392, 32.77691978,\n",
       "       37.13722641, 38.77367356, 39.97421157, 44.74659192, 32.13206477,\n",
       "       37.26889463, 41.15089929, 34.29597075, 39.0568663 , 40.94182825,\n",
       "       42.12350179, 38.91116043, 32.30018729, 42.1121617 , 41.4730342 ,\n",
       "       38.94182992, 28.1276522 , 33.72924175, 37.25092882, 54.80210936,\n",
       "       42.66324127, 43.82465561, 44.10116099, 36.39389486, 40.91224606,\n",
       "       41.71254564, 46.87437105, 46.25751579, 30.07553406, 38.39611378,\n",
       "       34.81729   , 35.05491743, 31.26534055, 46.56295559, 35.49231275,\n",
       "       40.20849362, 39.52323102, 38.07526336, 33.53118456, 39.25318297,\n",
       "       44.18940747, 36.03598603, 41.86045488, 41.67229495, 39.41779818,\n",
       "       42.90859554, 44.69049139, 37.31297046, 43.47860825, 51.2228909 ,\n",
       "       39.32788908, 42.67068301, 43.36819176, 34.42298321, 44.94621407,\n",
       "       40.11259393, 33.42529252, 42.29887016, 49.78482069, 36.56238091,\n",
       "       43.9115331 , 44.77868127, 33.78071452, 30.16365083, 49.48285678,\n",
       "       33.26043283, 35.90386039, 41.50198502, 44.25858919, 46.67643908,\n",
       "       33.54886351, 39.01637987, 38.39502709, 46.67344457, 33.74643758,\n",
       "       39.64453143, 51.81128591, 35.57203677, 44.34569901, 38.89409079,\n",
       "       41.91595999, 40.12950855, 37.81645116, 42.38102281, 36.31719258,\n",
       "       42.81918765, 41.08911522, 42.03379261, 40.86720518, 31.58470694,\n",
       "       38.19242097, 43.04398412, 46.87189177, 47.87960542, 41.01556208,\n",
       "       35.71539916, 42.8417503 , 46.20560137, 33.31795831, 37.64380001,\n",
       "       33.42522056, 42.01787934, 34.15460861, 41.96800916, 29.3730824 ,\n",
       "       43.14002892, 36.38106485, 42.16207987, 40.12213597, 31.76698222,\n",
       "       44.91674819, 41.0427921 , 41.76396762, 48.36328791, 38.69591802,\n",
       "       38.81716041, 43.17438042, 41.04488609, 41.26340646, 40.63100026,\n",
       "       33.80745207, 40.80883953, 42.42771015, 39.69473769, 39.58683179,\n",
       "       33.57268592, 39.93210258, 36.54439537, 38.85673483, 36.01584209,\n",
       "       44.72181593, 40.03771473, 43.73527716, 43.77344087, 47.00278986,\n",
       "       36.1340084 , 45.55817778, 31.17464331, 39.97625417, 40.74980782,\n",
       "       43.41984077, 42.91500708, 31.53754933, 39.74563301, 37.5023001 ,\n",
       "       43.6761678 , 39.52089699, 40.96723491, 46.10720407, 46.12650001,\n",
       "       43.87631372, 43.7905681 , 37.81775572, 44.94858438, 41.15896379,\n",
       "       40.93994245, 38.02073749, 42.44389584, 45.37323933, 35.69097237,\n",
       "       44.11885104, 40.55368635, 51.33050677, 39.42755199, 37.59663135,\n",
       "       43.08173687, 44.27069857, 50.69258294, 37.27855461, 41.60914808,\n",
       "       46.88519779, 31.43870255, 35.63677239, 42.35378861, 45.11465956,\n",
       "       37.53430721, 44.12010696, 36.82174522, 38.75329703, 41.7056675 ,\n",
       "       41.14775982, 39.29165189, 39.89391066, 38.59311757, 42.47994652,\n",
       "       34.55244573, 42.88815657, 38.85152879, 36.39979092, 41.29435041,\n",
       "       38.75300717, 34.36756874, 43.30902593, 38.96635065, 45.44652576,\n",
       "       35.79116601, 39.25978076, 41.13813529, 40.24226303, 37.85311846,\n",
       "       46.24787804, 46.66688941, 37.78911939, 43.39789254, 36.78329042,\n",
       "       39.5230525 , 41.84791201, 41.30170016, 38.41106571, 38.8925758 ,\n",
       "       45.09593925, 46.57206414, 44.1218748 , 41.54547627, 39.74687444,\n",
       "       40.80855998, 40.85093046, 46.99344972, 35.2201241 , 29.6425279 ,\n",
       "       37.96254929, 38.96956015, 45.12472718, 41.5662193 , 45.84350885,\n",
       "       36.17276642, 47.58602519, 38.66370919, 38.30734361, 36.04662914,\n",
       "       33.36551839, 43.29677617, 32.33458756, 33.69657915, 34.37516338,\n",
       "       39.75736283, 45.27250073, 42.26456269, 40.79058339, 38.51991023,\n",
       "       45.90700848, 33.85418125, 39.53706299, 35.65728194, 39.98816346,\n",
       "       49.73673576, 38.29056925, 36.95997016, 39.35015345, 47.0906116 ,\n",
       "       32.82439706, 38.61882161, 45.07619063, 35.52521255, 41.47115768,\n",
       "       36.57680013, 41.26382267, 36.39533531, 36.11573793, 43.91007618,\n",
       "       38.1717182 , 46.67006463, 47.50903009, 36.26568403, 41.66936836,\n",
       "       37.69686102, 32.72563957, 35.51644066, 40.24398101, 48.04141947,\n",
       "       36.38100379, 38.19239277, 39.02628709, 43.28801941, 37.24437802,\n",
       "       42.36062436, 44.0894323 , 46.16959721, 46.7082434 , 42.15274425,\n",
       "       36.31076217, 48.0766994 , 32.94063638, 39.16570811, 42.65918082,\n",
       "       36.95192374, 41.15900389, 45.02887493, 40.91530224, 38.18812938,\n",
       "       47.67467619, 41.7134183 , 37.99493155, 40.03188455, 38.34119138,\n",
       "       29.29066349, 39.37645915, 51.20266157, 38.3550305 , 42.08555076,\n",
       "       44.89367683, 36.92365425, 41.02616046, 43.00041966, 34.62181033,\n",
       "       42.35702046, 46.63872786, 42.61050176, 42.59370812, 37.59429339,\n",
       "       36.90525018, 41.54762149, 41.34683002, 24.96278805, 45.53849993,\n",
       "       41.95117221, 37.83631879, 41.9467056 , 47.10440458, 40.35832406,\n",
       "       41.42486555, 32.46353412, 36.78301742, 40.98082632, 43.49874771,\n",
       "       33.73488111, 41.88161398, 40.30116631, 37.32641344, 35.85472887,\n",
       "       45.41652242, 46.01426351, 40.38962737, 46.6468059 , 43.12889517,\n",
       "       43.5727811 , 49.75308414, 38.40362591, 33.01955612, 33.31005885,\n",
       "       36.94960087, 54.68643651, 36.18726667, 36.12111947, 37.35870303,\n",
       "       37.73791823, 36.92697624, 35.8121076 , 38.04587506, 44.90160874,\n",
       "       32.41934579, 37.58395899, 38.76076227, 45.22157633, 40.69003334,\n",
       "       52.79678095, 38.96814884, 44.03877725, 44.16458637, 38.84088854,\n",
       "       41.11711955, 47.51826789, 36.53698427, 42.09792673, 44.35818229,\n",
       "       43.20269047, 43.12476234, 36.80289014, 41.99870811, 33.54699221,\n",
       "       36.66729326, 47.58516452, 33.12921335, 32.78720819, 42.31822704,\n",
       "       40.24501458, 42.86214231, 39.79529211, 35.40263738, 43.47622775,\n",
       "       33.39787125, 38.13215683, 42.58884295, 26.82321318, 38.12319943,\n",
       "       41.56413472, 37.20801691, 39.73969259, 50.52640874, 41.06943809,\n",
       "       42.96229323, 38.87771684, 44.15479789, 35.3071365 , 35.99519541,\n",
       "       45.45948877, 36.88206885, 39.09809399, 44.04293098, 36.67897572,\n",
       "       40.57281772, 45.04464289, 35.52950276, 35.73930494, 36.07755203,\n",
       "       39.40359491, 39.45570705, 42.5908482 , 41.21313031, 35.1954549 ,\n",
       "       41.42763955, 42.18768991, 44.13100233, 30.13358977, 38.10856948,\n",
       "       38.11147203, 49.74916073, 34.72507964, 41.19702897, 45.00407975,\n",
       "       42.61006856, 36.48280508, 33.66819201, 42.50838055, 42.37304052,\n",
       "       33.21968025, 48.26583351, 39.56420714, 35.8892245 , 45.37896329,\n",
       "       38.90934658, 46.86724492, 39.80083315, 43.81646093, 31.65195029,\n",
       "       37.946444  , 38.78946633, 40.59234271, 44.73182501, 54.99593877,\n",
       "       47.42843583, 40.70062608, 42.74441744, 43.53790742, 35.13337467,\n",
       "       44.51735408, 37.69470767, 34.11021634, 36.91532918, 40.32306761,\n",
       "       41.85739758, 39.66842733, 36.5017137 , 30.29984149, 43.50633124,\n",
       "       39.24176274, 38.84406623, 37.11095414, 44.14016594, 40.0697894 ,\n",
       "       42.34366005, 45.06040435, 42.05242388, 43.44740005, 40.74913058,\n",
       "       47.66522383, 42.45768091, 37.03062997, 43.08420134, 40.71028875,\n",
       "       47.53389209, 40.57507561, 37.52856296, 46.14239806, 39.16373057,\n",
       "       47.99121206, 48.76776081, 40.42584194, 38.77010583, 35.74886801,\n",
       "       35.9877853 , 39.90585723, 36.51961452, 41.8791866 , 40.6964092 ,\n",
       "       39.60604243, 36.31720911, 39.36620061, 42.85315857, 49.72023045,\n",
       "       49.3461078 , 37.81930166, 36.49397897, 43.70760906, 40.43711055,\n",
       "       39.34275049, 39.24008682, 38.30239607, 39.38851861, 50.27846768,\n",
       "       44.21801365, 38.0390083 , 37.67710061, 47.34767673, 35.60424023,\n",
       "       37.35098434, 41.69988371, 37.6919169 , 45.46236168, 30.50998582,\n",
       "       43.76840268, 46.86315411, 45.52185991, 47.56857908, 41.98837234,\n",
       "       38.49695808, 40.86787374, 43.89955099, 42.61461822, 45.7746173 ,\n",
       "       38.56443167, 39.59961048, 39.44106505, 42.84784848, 42.21707965,\n",
       "       36.94244655, 33.31744045, 38.46853195, 38.26167081, 38.52278436,\n",
       "       38.50993921, 50.15251399, 39.36712276, 32.1079277 , 33.74613641,\n",
       "       40.86722061, 47.72452944, 40.15374117, 40.67043056, 38.51462221,\n",
       "       28.21368935, 42.17636876, 27.04173717, 41.41818232, 45.32049069,\n",
       "       41.89523644, 40.42918448, 42.06514343, 37.29018266, 41.89563077,\n",
       "       29.93586222, 51.45865313, 41.16713211, 40.11037164, 36.71153772,\n",
       "       38.84909261, 41.59595233, 36.66062897, 35.58470235, 34.34879695,\n",
       "       37.78663984, 33.2718895 , 43.81883777, 36.82134272, 36.48347222,\n",
       "       46.87366739, 41.17313139, 39.08872198, 32.65572454, 40.21928495,\n",
       "       37.28816472, 35.40370282, 43.28940909, 32.07534571, 30.98208287,\n",
       "       49.45464979, 42.26665028, 33.78089464, 40.62287549, 36.08185004,\n",
       "       34.19385151, 42.12125361, 41.17016322, 36.14662375, 32.98665185,\n",
       "       41.16307358, 42.52249141, 49.27150383, 34.86739426, 48.66091536,\n",
       "       39.0735363 , 42.23130369, 36.22864581, 33.93773417, 34.14780765,\n",
       "       37.53723173, 47.92789991, 40.19833426, 39.70134674, 43.35637456,\n",
       "       38.30631513, 33.12934888, 42.06468512, 46.47328761, 33.27276916,\n",
       "       44.09026893, 40.01783217, 35.16009524, 45.01192642, 44.61360047,\n",
       "       39.14181976, 36.84941125, 51.34721169, 35.39470403, 41.69139062,\n",
       "       33.95009602, 35.37491745, 43.46415655, 39.54844777, 37.46731723,\n",
       "       47.71316256, 39.2355402 , 44.77018356, 39.45515879, 44.30594944,\n",
       "       37.67702729, 43.87707299, 42.25258347, 27.25804958, 33.33816343,\n",
       "       47.21590987, 34.21863826, 52.43371824, 34.95918537, 44.25926893,\n",
       "       36.27562306, 41.88159649, 39.82695434, 37.1344396 , 44.57452144,\n",
       "       40.98962966, 41.7138581 , 40.61556211, 26.97265048, 45.11956181,\n",
       "       41.76072525, 43.38061936, 48.46513607, 46.33048937, 47.14858915,\n",
       "       35.61807078, 46.38620934, 50.43261008, 45.33491328, 46.85097421,\n",
       "       43.37133557, 41.80662819, 43.79186392, 34.46267844, 43.22440224,\n",
       "       35.56785925, 41.09672208, 41.37378565, 38.77723477, 38.16919067,\n",
       "       49.04274695, 43.88631301, 40.56491436, 39.19418282, 38.1124162 ,\n",
       "       38.5883137 , 42.93158801, 46.51888835, 40.083233  , 36.09148824,\n",
       "       36.14993839, 49.22119792, 50.4797589 , 40.96395836, 37.61218612])"
      ]
     },
     "execution_count": 24,
     "metadata": {},
     "output_type": "execute_result"
    }
   ],
   "source": [
    "sample"
   ]
  },
  {
   "cell_type": "code",
   "execution_count": 26,
   "metadata": {},
   "outputs": [
    {
     "data": {
      "text/plain": [
       "(array([ 2.,  0.,  2.,  3.,  4.,  9., 10.,  8., 15., 15., 17., 18., 20.,\n",
       "        22., 20., 31., 20.,  8., 16., 18.,  9., 12.,  8.,  5.,  8., 12.,\n",
       "        12., 21., 28., 17., 45., 47., 48., 59., 56., 59., 58., 50., 52.,\n",
       "        33., 21., 29., 19.,  7., 10.,  6.,  6.,  2.,  0.,  3.]),\n",
       " array([ 5.7643281 ,  6.74896031,  7.73359253,  8.71822474,  9.70285695,\n",
       "        10.68748917, 11.67212138, 12.65675359, 13.64138581, 14.62601802,\n",
       "        15.61065023, 16.59528245, 17.57991466, 18.56454687, 19.54917909,\n",
       "        20.5338113 , 21.51844351, 22.50307573, 23.48770794, 24.47234015,\n",
       "        25.45697237, 26.44160458, 27.42623679, 28.41086901, 29.39550122,\n",
       "        30.38013343, 31.36476565, 32.34939786, 33.33403007, 34.31866229,\n",
       "        35.3032945 , 36.28792671, 37.27255893, 38.25719114, 39.24182335,\n",
       "        40.22645557, 41.21108778, 42.19571999, 43.18035221, 44.16498442,\n",
       "        45.14961663, 46.13424885, 47.11888106, 48.10351327, 49.08814549,\n",
       "        50.0727777 , 51.05740991, 52.04204213, 53.02667434, 54.01130655,\n",
       "        54.99593877]),\n",
       " <BarContainer object of 50 artists>)"
      ]
     },
     "execution_count": 26,
     "metadata": {},
     "output_type": "execute_result"
    },
    {
     "data": {
      "image/png": "[encoded data removed]",
      "text/plain": [
       "<Figure size 432x288 with 1 Axes>"
      ]
     },
     "metadata": {
      "needs_background": "light"
     },
     "output_type": "display_data"
    }
   ],
   "source": [
    "plt.hist(sample,bins=50)"
   ]
  },
  {
   "cell_type": "code",
   "execution_count": 27,
   "metadata": {},
   "outputs": [
    {
     "data": {
      "text/plain": [
       "KernelDensity(bandwidth=5)"
      ]
     },
     "execution_count": 27,
     "metadata": {},
     "output_type": "execute_result"
    }
   ],
   "source": [
    "from sklearn.neighbors import KernelDensity\n",
    "model = KernelDensity(bandwidth=5, kernel='gaussian')\n",
    "\n",
    "sample=sample.reshape((len(sample),1))\n",
    "\n",
    "model.fit(sample)"
   ]
  },
  {
   "cell_type": "code",
   "execution_count": 29,
   "metadata": {},
   "outputs": [],
   "source": [
    "values = np.linspace(sample.min(),sample.max(),100)\n",
    "values = values.reshape((len(values),1))"
   ]
  },
  {
   "cell_type": "code",
   "execution_count": 30,
   "metadata": {},
   "outputs": [],
   "source": [
    "probabilities = model.score_samples(values)\n",
    "probabilities = np.exp(probabilities)"
   ]
  },
  {
   "cell_type": "markdown",
   "metadata": {},
   "source": [
    "score_samples(values) returns the log-density estimate of the input samples values. This is because the score_samples() method of the KernelDensity class returns the logarithm of the probability density estimate rather than the actual probability density estimate."
   ]
  },
  {
   "cell_type": "code",
   "execution_count": 31,
   "metadata": {},
   "outputs": [
    {
     "data": {
      "image/png": "[encoded data removed]",
      "text/plain": [
       "<Figure size 432x288 with 1 Axes>"
      ]
     },
     "metadata": {
      "needs_background": "light"
     },
     "output_type": "display_data"
    }
   ],
   "source": [
    "plt.hist(sample, bins=50, density=True)\n",
    "plt.plot(values[:], probabilities)\n",
    "plt.show()"
   ]
  },
  {
   "cell_type": "code",
   "execution_count": 32,
   "metadata": {},
   "outputs": [
    {
     "data": {
      "text/plain": [
       "<AxesSubplot:ylabel='Density'>"
      ]
     },
     "execution_count": 32,
     "metadata": {},
     "output_type": "execute_result"
    },
    {
     "data": {
      "image/png": "[encoded data removed]",
      "text/plain": [
       "<Figure size 432x288 with 1 Axes>"
      ]
     },
     "metadata": {
      "needs_background": "light"
     },
     "output_type": "display_data"
    }
   ],
   "source": [
    "sns.kdeplot(sample.reshape(1000),bw_adjust=0.02)"
   ]
  },
  {
   "cell_type": "code",
   "execution_count": null,
   "metadata": {},
   "outputs": [],
   "source": []
  }
 ],
 "metadata": {
  "kernelspec": {
   "display_name": "base",
   "language": "python",
   "name": "python3"
  },
  "language_info": {
   "codemirror_mode": {
    "name": "ipython",
    "version": 3
   },
   "file_extension": ".py",
   "mimetype": "text/x-python",
   "name": "python",
   "nbconvert_exporter": "python",
   "pygments_lexer": "ipython3",
   "version": "3.9.12"
  }
 },
 "nbformat": 4,
 "nbformat_minor": 2
}
