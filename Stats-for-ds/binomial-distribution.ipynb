{
 "cells": [
  {
   "cell_type": "code",
   "execution_count": 11,
   "metadata": {},
   "outputs": [],
   "source": [
    "import numpy as np\n",
    "import matplotlib.pyplot as plt"
   ]
  },
  {
   "cell_type": "code",
   "execution_count": 12,
   "metadata": {},
   "outputs": [],
   "source": [
    "p=0.5 #prob of success\n",
    "size=1000 #number of trials i.e repeating n size times\n",
    "n=10 #no of samples to generate, eg tossing coin 10 times"
   ]
  },
  {
   "cell_type": "code",
   "execution_count": 13,
   "metadata": {},
   "outputs": [],
   "source": [
    "binomial_dist = np.random.binomial(n,p,size)"
   ]
  },
  {
   "cell_type": "code",
   "execution_count": 14,
   "metadata": {},
   "outputs": [
    {
     "data": {
      "text/plain": [
       "array([3, 3, 6, 5, 6, 7, 5, 5, 2, 6, 6, 6, 6, 5, 6, 3, 4, 1, 4, 5, 6, 5,\n",
       "       5, 7, 3, 7, 4, 6, 4, 4, 5, 5, 6, 4, 4, 4, 6, 7, 8, 7, 2, 3, 5, 7,\n",
       "       4, 7, 5, 5, 8, 4, 6, 7, 6, 2, 4, 5, 2, 3, 3, 4, 7, 7, 4, 6, 3, 5,\n",
       "       3, 5, 4, 5, 5, 4, 3, 4, 6, 6, 4, 5, 7, 7, 6, 8, 7, 6, 5, 6, 6, 4,\n",
       "       4, 5, 7, 6, 4, 5, 3, 5, 6, 5, 3, 5, 3, 3, 3, 6, 6, 4, 1, 6, 5, 5,\n",
       "       5, 8, 7, 5, 4, 7, 6, 6, 4, 7, 5, 7, 6, 2, 5, 7, 3, 5, 3, 6, 5, 4,\n",
       "       4, 4, 4, 7, 5, 4, 3, 6, 1, 4, 4, 6, 7, 8, 3, 5, 6, 5, 5, 7, 4, 6,\n",
       "       4, 7, 5, 6, 2, 3, 4, 5, 4, 6, 5, 5, 6, 3, 2, 7, 7, 6, 5, 5, 4, 4,\n",
       "       6, 7, 6, 6, 5, 3, 2, 7, 3, 4, 3, 7, 7, 5, 6, 8, 3, 5, 4, 3, 6, 4,\n",
       "       5, 8, 6, 4, 4, 5, 6, 6, 5, 6, 5, 7, 5, 6, 3, 5, 7, 3, 4, 3, 3, 7,\n",
       "       2, 5, 5, 5, 3, 6, 4, 6, 6, 5, 7, 7, 4, 5, 9, 4, 4, 6, 3, 5, 6, 6,\n",
       "       7, 4, 8, 7, 4, 3, 7, 6, 4, 4, 4, 6, 4, 5, 8, 6, 5, 4, 4, 6, 3, 6,\n",
       "       8, 5, 2, 4, 5, 4, 7, 4, 4, 6, 7, 6, 4, 5, 6, 4, 4, 4, 5, 5, 4, 4,\n",
       "       5, 7, 6, 3, 6, 4, 5, 2, 7, 4, 3, 4, 3, 2, 7, 7, 3, 7, 6, 6, 6, 4,\n",
       "       5, 5, 6, 6, 4, 2, 8, 4, 5, 7, 8, 6, 6, 6, 6, 6, 8, 8, 5, 5, 5, 6,\n",
       "       4, 3, 5, 3, 3, 4, 4, 3, 3, 5, 7, 3, 3, 6, 4, 4, 5, 5, 3, 6, 6, 3,\n",
       "       5, 6, 3, 5, 5, 5, 7, 6, 7, 5, 5, 3, 6, 4, 4, 5, 7, 6, 6, 5, 5, 4,\n",
       "       6, 5, 5, 4, 6, 2, 2, 7, 3, 6, 5, 6, 2, 5, 7, 4, 5, 7, 6, 4, 4, 3,\n",
       "       5, 4, 3, 6, 2, 5, 6, 5, 7, 3, 3, 3, 7, 5, 7, 5, 7, 4, 7, 2, 4, 3,\n",
       "       6, 5, 6, 5, 4, 6, 5, 4, 5, 5, 3, 4, 5, 6, 4, 5, 7, 4, 9, 6, 5, 8,\n",
       "       6, 5, 5, 5, 7, 5, 5, 8, 3, 6, 7, 7, 6, 5, 3, 6, 4, 6, 2, 5, 6, 8,\n",
       "       4, 6, 6, 4, 5, 4, 6, 4, 3, 8, 5, 7, 7, 5, 5, 5, 5, 3, 2, 6, 6, 4,\n",
       "       6, 6, 6, 4, 6, 9, 6, 4, 5, 6, 7, 6, 5, 5, 7, 7, 3, 4, 2, 4, 4, 4,\n",
       "       5, 6, 4, 4, 6, 3, 7, 5, 4, 7, 8, 4, 7, 4, 2, 7, 3, 4, 6, 6, 6, 5,\n",
       "       5, 6, 2, 7, 3, 7, 5, 3, 4, 5, 4, 4, 6, 5, 5, 5, 4, 5, 5, 4, 6, 6,\n",
       "       6, 2, 4, 3, 9, 4, 4, 3, 8, 6, 5, 3, 6, 5, 5, 6, 3, 5, 5, 6, 5, 7,\n",
       "       6, 6, 5, 3, 5, 5, 4, 7, 2, 5, 6, 4, 4, 6, 5, 5, 3, 4, 4, 4, 5, 7,\n",
       "       4, 3, 6, 4, 6, 4, 1, 5, 2, 7, 4, 4, 8, 5, 4, 7, 6, 5, 7, 4, 6, 8,\n",
       "       5, 5, 5, 5, 5, 2, 4, 3, 6, 1, 4, 5, 4, 4, 5, 7, 6, 6, 5, 7, 6, 8,\n",
       "       6, 8, 5, 6, 5, 6, 6, 6, 4, 5, 3, 4, 8, 2, 6, 8, 4, 7, 4, 4, 5, 4,\n",
       "       4, 6, 4, 8, 7, 6, 7, 3, 4, 2, 4, 5, 4, 5, 3, 5, 2, 3, 4, 3, 5, 5,\n",
       "       3, 5, 5, 6, 8, 4, 6, 4, 7, 3, 3, 7, 4, 5, 6, 6, 4, 5, 7, 6, 4, 5,\n",
       "       6, 3, 6, 7, 5, 5, 6, 6, 5, 6, 5, 4, 5, 7, 3, 7, 5, 4, 5, 6, 7, 7,\n",
       "       4, 4, 5, 3, 5, 1, 5, 3, 3, 7, 3, 7, 5, 6, 1, 5, 9, 5, 4, 6, 5, 6,\n",
       "       7, 7, 6, 6, 7, 3, 6, 4, 4, 4, 5, 3, 4, 3, 9, 6, 3, 4, 6, 7, 5, 6,\n",
       "       2, 5, 6, 4, 4, 3, 3, 3, 4, 5, 4, 8, 3, 8, 4, 5, 4, 6, 7, 4, 5, 6,\n",
       "       5, 2, 3, 6, 6, 7, 7, 4, 6, 6, 3, 6, 3, 7, 3, 6, 6, 3, 6, 6, 5, 3,\n",
       "       5, 2, 1, 7, 8, 3, 3, 6, 6, 4, 5, 4, 6, 3, 3, 4, 9, 6, 6, 4, 4, 4,\n",
       "       5, 7, 8, 6, 8, 2, 6, 4, 3, 7, 4, 7, 3, 6, 5, 8, 7, 3, 2, 4, 3, 5,\n",
       "       4, 9, 4, 4, 5, 4, 6, 7, 4, 6, 4, 5, 2, 5, 6, 6, 5, 6, 4, 6, 5, 5,\n",
       "       3, 3, 5, 6, 5, 6, 8, 4, 6, 2, 3, 7, 6, 8, 5, 4, 5, 5, 5, 4, 6, 6,\n",
       "       6, 7, 6, 4, 4, 3, 7, 6, 7, 5, 8, 5, 3, 7, 7, 5, 4, 4, 3, 3, 4, 6,\n",
       "       4, 8, 4, 4, 4, 6, 7, 5, 3, 6, 3, 6, 6, 5, 5, 1, 5, 7, 3, 3, 5, 4,\n",
       "       4, 6, 5, 5, 3, 4, 4, 6, 5, 7, 3, 3, 7, 6, 4, 7, 6, 5, 4, 3, 6, 6,\n",
       "       6, 4, 5, 6, 3, 7, 7, 3, 2, 8, 3, 5, 3, 7, 6, 6, 7, 3, 5, 4, 4, 5,\n",
       "       8, 5, 4, 6, 3, 5, 4, 6, 7, 8])"
      ]
     },
     "execution_count": 14,
     "metadata": {},
     "output_type": "execute_result"
    }
   ],
   "source": [
    "binomial_dist #har ek number btata h ki uss experiment me humne jab 10 baar\n",
    "#coin toss kiya, heads itni baar aya"
   ]
  },
  {
   "cell_type": "code",
   "execution_count": 15,
   "metadata": {},
   "outputs": [
    {
     "data": {
      "text/plain": [
       "(array([0.01125, 0.0475 , 0.16375, 0.25875, 0.     , 0.28125, 0.2725 ,\n",
       "        0.15375, 0.05125, 0.01   ]),\n",
       " array([1. , 1.8, 2.6, 3.4, 4.2, 5. , 5.8, 6.6, 7.4, 8.2, 9. ]),\n",
       " <BarContainer object of 10 artists>)"
      ]
     },
     "execution_count": 15,
     "metadata": {},
     "output_type": "execute_result"
    },
    {
     "data": {
      "image/png": "[encoded data removed]",
      "text/plain": [
       "<Figure size 432x288 with 1 Axes>"
      ]
     },
     "metadata": {
      "needs_background": "light"
     },
     "output_type": "display_data"
    }
   ],
   "source": [
    "plt.hist(binomial_dist,density=True)"
   ]
  },
  {
   "cell_type": "markdown",
   "metadata": {},
   "source": [
    "### upar wala graph centered h kyuki we have kept the p=0.5, in \"binomila_dist\" we can see most of the values are around 5 6. If we increase the probability to 0.8 (heads) the graph shifts towards right as below"
   ]
  },
  {
   "cell_type": "code",
   "execution_count": 16,
   "metadata": {},
   "outputs": [
    {
     "data": {
      "text/plain": [
       "(array([0.005     , 0.04833333, 0.        , 0.12666667, 0.        ,\n",
       "        0.375     , 0.48833333, 0.        , 0.45666667, 0.16666667]),\n",
       " array([ 4. ,  4.6,  5.2,  5.8,  6.4,  7. ,  7.6,  8.2,  8.8,  9.4, 10. ]),\n",
       " <BarContainer object of 10 artists>)"
      ]
     },
     "execution_count": 16,
     "metadata": {},
     "output_type": "execute_result"
    },
    {
     "data": {
      "image/png": "[encoded data removed]",
      "text/plain": [
       "<Figure size 432x288 with 1 Axes>"
      ]
     },
     "metadata": {
      "needs_background": "light"
     },
     "output_type": "display_data"
    }
   ],
   "source": [
    "p=0.8 #prob of success\n",
    "size=1000 #number of trials i.e repeating n size times\n",
    "n=10 #no of samples to generate, eg tossing coin 10 times\n",
    "binomial_dist = np.random.binomial(n,p,size)\n",
    "plt.hist(binomial_dist,density=True)"
   ]
  },
  {
   "cell_type": "code",
   "execution_count": null,
   "metadata": {},
   "outputs": [],
   "source": []
  }
 ],
 "metadata": {
  "kernelspec": {
   "display_name": "base",
   "language": "python",
   "name": "python3"
  },
  "language_info": {
   "codemirror_mode": {
    "name": "ipython",
    "version": 3
   },
   "file_extension": ".py",
   "mimetype": "text/x-python",
   "name": "python",
   "nbconvert_exporter": "python",
   "pygments_lexer": "ipython3",
   "version": "3.9.12"
  }
 },
 "nbformat": 4,
 "nbformat_minor": 2
}
