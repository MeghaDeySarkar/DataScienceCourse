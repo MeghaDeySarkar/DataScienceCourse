{
 "cells": [
  {
   "cell_type": "code",
   "execution_count": 24,
   "metadata": {},
   "outputs": [],
   "source": [
    "import pandas as pd\n",
    "import numpy as np\n",
    "import seaborn as sns"
   ]
  },
  {
   "cell_type": "code",
   "execution_count": 18,
   "metadata": {},
   "outputs": [],
   "source": [
    "deliveries = pd.read_csv(\"D:\\Megha\\dsmp\\Stats-for-ds\\deliveries.csv\")"
   ]
  },
  {
   "cell_type": "code",
   "execution_count": 19,
   "metadata": {},
   "outputs": [
    {
     "data": {
      "text/plain": [
       "Index(['match_id', 'inning', 'batting_team', 'bowling_team', 'over', 'ball',\n",
       "       'batsman', 'non_striker', 'bowler', 'is_super_over', 'wide_runs',\n",
       "       'bye_runs', 'legbye_runs', 'noball_runs', 'penalty_runs',\n",
       "       'batsman_runs', 'extra_runs', 'total_runs', 'player_dismissed',\n",
       "       'dismissal_kind', 'fielder'],\n",
       "      dtype='object')"
      ]
     },
     "execution_count": 19,
     "metadata": {},
     "output_type": "execute_result"
    }
   ],
   "source": [
    "deliveries.columns\n"
   ]
  },
  {
   "cell_type": "code",
   "execution_count": 20,
   "metadata": {},
   "outputs": [
    {
     "data": {
      "text/plain": [
       "batsman\n",
       "A Ashish Reddy     280\n",
       "A Chandila           4\n",
       "A Chopra            53\n",
       "A Choudhary         25\n",
       "A Dananjaya          4\n",
       "                  ... \n",
       "YV Takawale        192\n",
       "Yashpal Singh       47\n",
       "Younis Khan          3\n",
       "Yuvraj Singh      2765\n",
       "Z Khan             117\n",
       "Name: batsman_runs, Length: 516, dtype: int64"
      ]
     },
     "execution_count": 20,
     "metadata": {},
     "output_type": "execute_result"
    }
   ],
   "source": [
    "runs = deliveries.groupby('batsman').sum()['batsman_runs']\n",
    "runs"
   ]
  },
  {
   "cell_type": "code",
   "execution_count": 21,
   "metadata": {},
   "outputs": [
    {
     "name": "stdout",
     "output_type": "stream",
     "text": [
      "[ 280    4   53   25    4   62  152   15   35  368   34   19   41    2\n",
      "  974    4    4    5   69   12  217    9  179   42   26  123 4428  120\n",
      " 2069   20  181   79  724   91 1445    7   10   49 1744   94  401  672\n",
      " 3850   36    7   34   87  339   12  806   18  194 1011 3326   39    0\n",
      "   63  164    7   37    4  388   76  280  190    5  124    5   35    6\n",
      "  647    3 2893  125   11  240    1   18 1400  193   23   40   32  187\n",
      "  187   15  180    0  313   21 1308  390 4560  520  538   98    3    8\n",
      "   16    8  971  169  188   63    4    3   33   16  123  127   10 1875\n",
      " 4741   12  304  375   21  170 1498  111  535 1322   92    1   39  295\n",
      "   73  121    6   11    4    1 1808   19 2385  101   18  448   13  166\n",
      "  464  854   24   14 1874    4  183 4223   22  739    4  280  663 1403\n",
      "   15  446   22    2    1   68    4    6  886 1118  577  108  834   18\n",
      "   20    7   55   10    0 1150   76   20   88  711   85   23  468  409\n",
      "    0    8   54   29   10    6  975 1431  604   55  106   42    3  327\n",
      " 2427   37  186   18   26   38 2041  527  417    8   36    0  218  148\n",
      "   22   70   12 2784   10   51   24 1687 3688  915   13  116 1470 2013\n",
      " 1091    5    2 1001 1319  317   36  128    3   12   46    0   36   72\n",
      "    1   34   81  302    1  106 1079   40  405 1017  311    4  259  113\n",
      "   73   28  514   31  126   20   11   55   35   12 2590 1016    3    1\n",
      " 1276   24   96  969  125  237   14 1977  177  168   98  271  278   91\n",
      " 2872 1697 1107   39  124  161  167  482  225  798 4477   99   22  394\n",
      " 1547    2  117    2    3   64  146   54   34    1    8  177 1104  143\n",
      "    0   20    1   26  424   52   23 1555  121  506    5    8  127    1\n",
      "  340  366    1   20    0   19  616 2874  164  505  203   77   25    1\n",
      "  587   16   92    6   18    7   17 1489  382  342    8   19  153 2174\n",
      "  159    3  169   51    5  270   66   19   73  119  311 1951  771   15\n",
      "   83  159    2 4914  117   32  103  326   52    0 1792   67   20   53\n",
      "   73  531    2    4   91   50 4446  109  136   59   13 1441   25   95\n",
      " 4632   40  517  131   93   12    0    0    0   13   32   37   91    2\n",
      "   82    8   17  368   34   31    3  145   15  423  608   49   28    6\n",
      "  131    2 1349   99   15    1 2489    5 5415   42  198   88    9  241\n",
      "  147   10  416   36  196  301   38  803 2047 2334 3614 1714    6 1276\n",
      "  768  882 2235  338   23  137  193   26   81  759    5    1    2   52\n",
      "   36    0   43   12   24   11   11   31   12   12   10  115  676 1153\n",
      "  205    8   75    8    0    7  300  127  127   39 5434    0 2728  574\n",
      "   29   49    4    7    2  282   15   19  130   56   63 1780   81   79\n",
      "   10   19  285  985    0 3241   22  192   47    3 2765  117]\n"
     ]
    }
   ],
   "source": [
    "runs = runs.values\n",
    "print(runs)"
   ]
  },
  {
   "cell_type": "code",
   "execution_count": 22,
   "metadata": {},
   "outputs": [
    {
     "name": "stderr",
     "output_type": "stream",
     "text": [
      "C:\\Users\\user\\AppData\\Local\\Temp\\ipykernel_13620\\1329827010.py:1: UserWarning: \n",
      "\n",
      "`distplot` is a deprecated function and will be removed in seaborn v0.14.0.\n",
      "\n",
      "Please adapt your code to use either `displot` (a figure-level function with\n",
      "similar flexibility) or `histplot` (an axes-level function for histograms).\n",
      "\n",
      "For a guide to updating your code to use the new functions, please see\n",
      "https://gist.github.com/mwaskom/de44147ed2974457ad6372750bbe5751\n",
      "\n",
      "  sns.distplot(runs)\n"
     ]
    },
    {
     "data": {
      "text/plain": [
       "<AxesSubplot:ylabel='Density'>"
      ]
     },
     "execution_count": 22,
     "metadata": {},
     "output_type": "execute_result"
    },
    {
     "data": {
      "image/png": "[encoded data removed]",
      "text/plain": [
       "<Figure size 432x288 with 1 Axes>"
      ]
     },
     "metadata": {
      "needs_background": "light"
     },
     "output_type": "display_data"
    }
   ],
   "source": [
    "sns.distplot(runs)"
   ]
  },
  {
   "cell_type": "code",
   "execution_count": 26,
   "metadata": {},
   "outputs": [],
   "source": [
    "n = 50 #batsman taker per sample\n",
    "m=1000 #no of times sampling is done"
   ]
  },
  {
   "cell_type": "code",
   "execution_count": 25,
   "metadata": {},
   "outputs": [
    {
     "data": {
      "text/plain": [
       "array([  37,  106, 2047,   22,   21], dtype=int64)"
      ]
     },
     "execution_count": 25,
     "metadata": {},
     "output_type": "execute_result"
    }
   ],
   "source": [
    "np.random.choice(runs,size=5)"
   ]
  },
  {
   "cell_type": "code",
   "execution_count": 30,
   "metadata": {},
   "outputs": [],
   "source": [
    "new=[]\n",
    "for i in range(m):\n",
    "    x=np.random.choice(runs,size=n)\n",
    "    new.append(x.mean())\n",
    "    \n",
    "new = np.array(new)"
   ]
  },
  {
   "cell_type": "code",
   "execution_count": 33,
   "metadata": {},
   "outputs": [
    {
     "name": "stderr",
     "output_type": "stream",
     "text": [
      "C:\\Users\\user\\AppData\\Local\\Temp\\ipykernel_13620\\397519180.py:1: UserWarning: \n",
      "\n",
      "`distplot` is a deprecated function and will be removed in seaborn v0.14.0.\n",
      "\n",
      "Please adapt your code to use either `displot` (a figure-level function with\n",
      "similar flexibility) or `histplot` (an axes-level function for histograms).\n",
      "\n",
      "For a guide to updating your code to use the new functions, please see\n",
      "https://gist.github.com/mwaskom/de44147ed2974457ad6372750bbe5751\n",
      "\n",
      "  sns.distplot(new)\n"
     ]
    },
    {
     "data": {
      "text/plain": [
       "<AxesSubplot:ylabel='Density'>"
      ]
     },
     "execution_count": 33,
     "metadata": {},
     "output_type": "execute_result"
    },
    {
     "data": {
      "image/png": "[encoded data removed]",
      "text/plain": [
       "<Figure size 432x288 with 1 Axes>"
      ]
     },
     "metadata": {
      "needs_background": "light"
     },
     "output_type": "display_data"
    }
   ],
   "source": [
    "sns.distplot(new)"
   ]
  },
  {
   "cell_type": "code",
   "execution_count": 34,
   "metadata": {},
   "outputs": [
    {
     "data": {
      "text/plain": [
       "(432.7248062015504, 434.49732000000006)"
      ]
     },
     "execution_count": 34,
     "metadata": {},
     "output_type": "execute_result"
    }
   ],
   "source": [
    "runs.mean(), new.mean()"
   ]
  },
  {
   "cell_type": "code",
   "execution_count": 35,
   "metadata": {},
   "outputs": [
    {
     "data": {
      "text/plain": [
       "(15673.190113274444, 15538.3066752176)"
      ]
     },
     "execution_count": 35,
     "metadata": {},
     "output_type": "execute_result"
    }
   ],
   "source": [
    "runs.var()/50 , new.var()"
   ]
  },
  {
   "cell_type": "code",
   "execution_count": 36,
   "metadata": {},
   "outputs": [
    {
     "data": {
      "text/plain": [
       "(122.95075685956682, 124.65274435493829)"
      ]
     },
     "execution_count": 36,
     "metadata": {},
     "output_type": "execute_result"
    }
   ],
   "source": [
    "runs.std()/7.2, new.std()"
   ]
  },
  {
   "cell_type": "code",
   "execution_count": null,
   "metadata": {},
   "outputs": [],
   "source": []
  }
 ],
 "metadata": {
  "kernelspec": {
   "display_name": "base",
   "language": "python",
   "name": "python3"
  },
  "language_info": {
   "codemirror_mode": {
    "name": "ipython",
    "version": 3
   },
   "file_extension": ".py",
   "mimetype": "text/x-python",
   "name": "python",
   "nbconvert_exporter": "python",
   "pygments_lexer": "ipython3",
   "version": "3.9.12"
  }
 },
 "nbformat": 4,
 "nbformat_minor": 2
}
